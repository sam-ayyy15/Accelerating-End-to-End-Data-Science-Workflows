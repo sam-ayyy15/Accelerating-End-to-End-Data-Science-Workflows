{
 "cells": [
  {
   "cell_type": "markdown",
   "id": "fe19afa7-b638-4c2f-a7aa-f7333ac67956",
   "metadata": {},
   "source": [
    "<img src=\"images/nvidia_header.png\" style=\"margin-left: -30px; width: 300px; float: left;\">"
   ]
  },
  {
   "cell_type": "markdown",
   "id": "ae497b71-bc43-471e-8970-88a1878e7cf9",
   "metadata": {},
   "source": [
    "# Accelerating End-to-End Data Science Workflows # "
   ]
  },
  {
   "cell_type": "markdown",
   "id": "3a61cc06-80da-4f73-ba61-8ff1b5af71d8",
   "metadata": {},
   "source": [
    "## 01 - Section Overview ##\n",
    "\n",
    "**Table of Contents**\n",
    "<br>\n",
    "This section focuses on utilizing several GPU-accelerated machine learning algorithms. \n",
    "<br>\n",
    "* **3-01_section_overview.ipynb**\n",
    "* **3-02_k-means.ipynb**\n",
    "* **3-03_dbscan.ipynb**\n",
    "* **3-04_logistric_regression.ipynb**\n",
    "* **3-05_knn.ipynb**\n",
    "* **3-06_xgboost.ipynb**\n",
    "* **3-07_triton.ipynb**\n",
    "* **3-08_k-means_dask.ipynb**"
   ]
  },
  {
   "cell_type": "markdown",
   "id": "9b1485a5-00e8-4495-85b0-b48671674818",
   "metadata": {},
   "source": [
    "**Well Done!** Let's move to the [next notebook](3-02_k-means.ipynb). "
   ]
  },
  {
   "cell_type": "markdown",
   "id": "81e47f0a-547e-4714-878d-34eb9b75c835",
   "metadata": {},
   "source": [
    "<img src=\"images/nvidia_header.png\" style=\"margin-left: -30px; width: 300px; float: left;\">"
   ]
  }
 ],
 "metadata": {
  "kernelspec": {
   "display_name": "Python 3 (ipykernel)",
   "language": "python",
   "name": "python3"
  },
  "language_info": {
   "codemirror_mode": {
    "name": "ipython",
    "version": 3
   },
   "file_extension": ".py",
   "mimetype": "text/x-python",
   "name": "python",
   "nbconvert_exporter": "python",
   "pygments_lexer": "ipython3",
   "version": "3.10.15"
  }
 },
 "nbformat": 4,
 "nbformat_minor": 5
}
