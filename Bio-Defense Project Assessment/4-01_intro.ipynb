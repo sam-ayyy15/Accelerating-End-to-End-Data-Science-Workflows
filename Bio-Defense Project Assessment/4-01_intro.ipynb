{
 "cells": [
  {
   "cell_type": "markdown",
   "metadata": {},
   "source": [
    "<img src=\"images/nvidia_header.png\" style=\"margin-left: -30px; width: 300px; float: left;\">"
   ]
  },
  {
   "cell_type": "markdown",
   "metadata": {},
   "source": [
    "# Project: Biodefense"
   ]
  },
  {
   "cell_type": "markdown",
   "metadata": {},
   "source": [
    "Perform several data analysis tasks in support of stopping a simulated epidemic affecting the United Kingdom."
   ]
  },
  {
   "cell_type": "markdown",
   "metadata": {},
   "source": [
    "##  Table of Contents"
   ]
  },
  {
   "cell_type": "markdown",
   "metadata": {},
   "source": [
    "**01_intro.ipynb**: This notebook.\n",
    "\n",
    "**02_find_infected.ipynb**: Week 1: Find geographic clusters of infected people.\n",
    "\n",
    "**03_nearest_facilities.ipynb**: Week 2: Locate the nearest health facilities for infected people.\n",
    "\n",
    "**04_identify_risk_factors.ipynb**: Week 3: Identify risk factors for infection."
   ]
  }
 ],
 "metadata": {
  "kernelspec": {
   "display_name": "Python 3 (ipykernel)",
   "language": "python",
   "name": "python3"
  },
  "language_info": {
   "codemirror_mode": {
    "name": "ipython",
    "version": 3
   },
   "file_extension": ".py",
   "mimetype": "text/x-python",
   "name": "python",
   "nbconvert_exporter": "python",
   "pygments_lexer": "ipython3",
   "version": "3.10.15"
  }
 },
 "nbformat": 4,
 "nbformat_minor": 4
}
