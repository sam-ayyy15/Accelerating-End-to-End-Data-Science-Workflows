{
 "cells": [
  {
   "cell_type": "markdown",
   "id": "fe19afa7-b638-4c2f-a7aa-f7333ac67956",
   "metadata": {},
   "source": [
    "<img src=\"images/nvidia_header.png\" style=\"margin-left: -30px; width: 300px; float: left;\">"
   ]
  },
  {
   "cell_type": "markdown",
   "id": "ae497b71-bc43-471e-8970-88a1878e7cf9",
   "metadata": {},
   "source": [
    "# Accelerating End-to-End Data Science Workflows # "
   ]
  },
  {
   "cell_type": "markdown",
   "id": "3a61cc06-80da-4f73-ba61-8ff1b5af71d8",
   "metadata": {},
   "source": [
    "## 01 - Section Overview ##\n",
    "\n",
    "**Table of Contents**\n",
    "<br>\n",
    "This section focuses on GPU-accelerated graph analytics. \n",
    "<br>\n",
    "* **2-01_section_overview.ipynb**\n",
    "* **2-02_prep_graph.ipynb**\n",
    "* **2-03_cugraph.ipynb**\n",
    "* **2-04_networkx_cugraph.ipynb**"
   ]
  },
  {
   "cell_type": "markdown",
   "id": "9b1485a5-00e8-4495-85b0-b48671674818",
   "metadata": {},
   "source": [
    "**Well Done!** Let's move to the [next notebook](2-02_prep_graph.ipynb). "
   ]
  },
  {
   "cell_type": "markdown",
   "id": "81e47f0a-547e-4714-878d-34eb9b75c835",
   "metadata": {},
   "source": [
    "<img src=\"images/nvidia_header.png\" style=\"margin-left: -30px; width: 300px; float: left;\">"
   ]
  }
 ],
 "metadata": {
  "kernelspec": {
   "display_name": "Python 3 (ipykernel)",
   "language": "python",
   "name": "python3"
  },
  "language_info": {
   "codemirror_mode": {
    "name": "ipython",
    "version": 3
   },
   "file_extension": ".py",
   "mimetype": "text/x-python",
   "name": "python",
   "nbconvert_exporter": "python",
   "pygments_lexer": "ipython3",
   "version": "3.10.15"
  }
 },
 "nbformat": 4,
 "nbformat_minor": 5
}
